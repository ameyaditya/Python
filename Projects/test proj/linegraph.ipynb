{
 "cells": [
  {
   "cell_type": "code",
   "execution_count": 11,
   "metadata": {},
   "outputs": [],
   "source": [
    "from matplotlib import pyplot as plt\n",
    "% matplotlib inline"
   ]
  },
  {
   "cell_type": "code",
   "execution_count": 12,
   "metadata": {},
   "outputs": [],
   "source": [
    "import seaborn as sns"
   ]
  },
  {
   "cell_type": "code",
   "execution_count": 13,
   "metadata": {},
   "outputs": [],
   "source": [
    "import pandas as pd"
   ]
  },
  {
   "cell_type": "code",
   "execution_count": 14,
   "metadata": {},
   "outputs": [
    {
     "name": "stdout",
     "output_type": "stream",
     "text": [
      "Index(['Row ID', 'Order ID', 'Order Date', 'Ship Date', 'Ship Mode',\n",
      "       'Customer ID', 'Customer Name', 'Segment', 'Country', 'City', 'State',\n",
      "       'Postal Code', 'Region', 'Product ID', 'Category', 'Sub-Category',\n",
      "       'Product Name', 'Sales', 'Quantity', 'Discount', 'Profit'],\n",
      "      dtype='object')\n"
     ]
    }
   ],
   "source": [
    "df = pd.read_excel(\"Sample - Superstore.xls\")\n",
    "print(df.keys())"
   ]
  },
  {
   "cell_type": "code",
   "execution_count": 15,
   "metadata": {},
   "outputs": [
    {
     "name": "stdout",
     "output_type": "stream",
     "text": [
      "   Row ID        Order ID Order Date  Ship Date       Ship Mode Customer ID  \\\n",
      "0    7981  CA-2011-103800 2013-01-03 2013-01-07  Standard Class    DP-13000   \n",
      "1     740  CA-2011-112326 2013-01-04 2013-01-08  Standard Class    PO-19195   \n",
      "2     741  CA-2011-112326 2013-01-04 2013-01-08  Standard Class    PO-19195   \n",
      "3     742  CA-2011-112326 2013-01-04 2013-01-08  Standard Class    PO-19195   \n",
      "4    1760  CA-2011-141817 2013-01-05 2013-01-12  Standard Class    MB-18085   \n",
      "\n",
      "   Customer Name      Segment        Country          City   ...     \\\n",
      "0  Darren Powers     Consumer  United States       Houston   ...      \n",
      "1  Phillina Ober  Home Office  United States    Naperville   ...      \n",
      "2  Phillina Ober  Home Office  United States    Naperville   ...      \n",
      "3  Phillina Ober  Home Office  United States    Naperville   ...      \n",
      "4     Mick Brown     Consumer  United States  Philadelphia   ...      \n",
      "\n",
      "  Postal Code   Region       Product ID         Category Sub-Category  \\\n",
      "0       77095  Central  OFF-PA-10000174  Office Supplies        Paper   \n",
      "1       60540  Central  OFF-LA-10003223  Office Supplies       Labels   \n",
      "2       60540  Central  OFF-ST-10002743  Office Supplies      Storage   \n",
      "3       60540  Central  OFF-BI-10004094  Office Supplies      Binders   \n",
      "4       19143     East  OFF-AR-10003478  Office Supplies          Art   \n",
      "\n",
      "                                        Product Name    Sales  Quantity  \\\n",
      "0  Message Book, Wirebound, Four 5 1/2\" X 4\" Form...   16.448         2   \n",
      "1                                          Avery 508   11.784         3   \n",
      "2                      SAFCO Boltless Steel Shelving  272.736         3   \n",
      "3         GBC Standard Plastic Binding Systems Combs    3.540         2   \n",
      "4  Avery Hi-Liter EverBold Pen Style Fluorescent ...   19.536         3   \n",
      "\n",
      "   Discount   Profit  \n",
      "0       0.2   5.5512  \n",
      "1       0.2   4.2717  \n",
      "2       0.2 -64.7748  \n",
      "3       0.8  -5.4870  \n",
      "4       0.2   4.8840  \n",
      "\n",
      "[5 rows x 21 columns]\n"
     ]
    }
   ],
   "source": [
    "print(df.head())"
   ]
  },
  {
   "cell_type": "code",
   "execution_count": 17,
   "metadata": {},
   "outputs": [
    {
     "data": {
      "text/plain": [
       "[<matplotlib.lines.Line2D at 0x22ff640d748>]"
      ]
     },
     "execution_count": 17,
     "metadata": {},
     "output_type": "execute_result"
    },
    {
     "data": {
      "image/png": "[encoded data removed]",
      "text/plain": [
       "<matplotlib.figure.Figure at 0x22ff6e86400>"
      ]
     },
     "metadata": {},
     "output_type": "display_data"
    }
   ],
   "source": [
    "x = \"Order Date\"\n",
    "y = \"Sales\"\n",
    "plt.plot(df[x],df[y])"
   ]
  },
  {
   "cell_type": "code",
   "execution_count": 22,
   "metadata": {},
   "outputs": [
    {
     "ename": "NameError",
     "evalue": "name 'Country' is not defined",
     "output_type": "error",
     "traceback": [
      "\u001b[1;31m---------------------------------------------------------------------------\u001b[0m",
      "\u001b[1;31mNameError\u001b[0m                                 Traceback (most recent call last)",
      "\u001b[1;32m<ipython-input-22-b452bf57994b>\u001b[0m in \u001b[0;36m<module>\u001b[1;34m()\u001b[0m\n\u001b[1;32m----> 1\u001b[1;33m \u001b[0msns\u001b[0m\u001b[1;33m.\u001b[0m\u001b[0mviolinplot\u001b[0m\u001b[1;33m(\u001b[0m\u001b[0mx\u001b[0m\u001b[1;33m=\u001b[0m\u001b[0mdf\u001b[0m\u001b[1;33m[\u001b[0m\u001b[0mx\u001b[0m\u001b[1;33m]\u001b[0m\u001b[1;33m,\u001b[0m\u001b[0my\u001b[0m \u001b[1;33m=\u001b[0m \u001b[0mdf\u001b[0m\u001b[1;33m[\u001b[0m\u001b[0my\u001b[0m\u001b[1;33m]\u001b[0m\u001b[1;33m,\u001b[0m\u001b[0mdata\u001b[0m \u001b[1;33m=\u001b[0m \u001b[0mdf\u001b[0m\u001b[1;33m,\u001b[0m \u001b[0mhue\u001b[0m\u001b[1;33m=\u001b[0m\u001b[0mdf\u001b[0m\u001b[1;33m[\u001b[0m\u001b[0mCountry\u001b[0m\u001b[1;33m]\u001b[0m\u001b[1;33m)\u001b[0m\u001b[1;33m\u001b[0m\u001b[0m\n\u001b[0m",
      "\u001b[1;31mNameError\u001b[0m: name 'Country' is not defined"
     ]
    }
   ],
   "source": [
    "sns.violinplot(x=df[x],y = df[y],data = df, hue=df[Country])"
   ]
  },
  {
   "cell_type": "code",
   "execution_count": null,
   "metadata": {},
   "outputs": [],
   "source": []
  }
 ],
 "metadata": {
  "kernelspec": {
   "display_name": "Python 3",
   "language": "python",
   "name": "python3"
  },
  "language_info": {
   "codemirror_mode": {
    "name": "ipython",
    "version": 3
   },
   "file_extension": ".py",
   "mimetype": "text/x-python",
   "name": "python",
   "nbconvert_exporter": "python",
   "pygments_lexer": "ipython3",
   "version": "3.6.4"
  }
 },
 "nbformat": 4,
 "nbformat_minor": 2
}
